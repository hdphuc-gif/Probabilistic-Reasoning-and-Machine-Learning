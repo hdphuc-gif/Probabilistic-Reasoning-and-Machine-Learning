{
 "cells": [
  {
   "cell_type": "markdown",
   "id": "a5915ff2",
   "metadata": {},
   "source": [
    "# Principal Component Analysis (PCA)\n",
    "\n",
    "\n",
    "## Table of contents\n",
    "* [0. Libraries and helper functions](#libraries)\n",
    "* [1. TwoD dataset rotated into ThreeD plus noise](#twod)\n",
    "* [2. Eigendigits](#eigendigits)\n",
    "* [3. Kernel PCA](#kpca)\n",
    "\n",
    "Note that in this notebook the data is given as a matrix of row vectors, i.e.\n",
    "$$ X = [x_1, \\ldots, x_n]^T \\in \\mathbb{R}^{n\\times d}$$"
   ]
  },
  {
   "cell_type": "markdown",
   "id": "e1b644a5",
   "metadata": {},
   "source": [
    "<a class=\"anchor\" id=\"libraries\"></a>\n",
    "## 0. Libraries and helper functions"
   ]
  },
  {
   "cell_type": "code",
   "execution_count": null,
   "id": "ec445b9a",
   "metadata": {},
   "outputs": [],
   "source": [
    "from ml_solutions            import pca, pca_project, kpca\n",
    "#def pca(x, d):\n",
    "#     inputs:\n",
    "#       `x` is (n,D)-matrix or (N,h,w) or ...\n",
    "#       `d` is number of PCs\n",
    "#     outputs:\n",
    "#       `y` is (n,d)-matrix\n",
    "#       `Lambda` is (d)-vector\n",
    "#       `V` is (d,D)-matrix or (d,h,w) or ...\n",
    "#     ...\n",
    "#     return y, Lambda, V\n",
    "\n",
    "# def pca_project(x, V):\n",
    "#     inputs:\n",
    "#       `x` is (n,D)-matrix or (N,h,w) or ...\n",
    "#       `V` is (d,D)-matrix or (d,h,w) or ...\n",
    "#     outputs:\n",
    "#       `z` is (n,D)-matrix or (N,h,w) or ...\n",
    "#     ...\n",
    "#     return z\n",
    "\n",
    "# def kpca(x, d, k):\n",
    "#     inputs:\n",
    "#       `x` is (n,D)-matrix or (N,h,w) or ...\n",
    "#       `d` is number of PCs\n",
    "#       `k` is kernel function \n",
    "#     outputs:\n",
    "#       `y` is (n,d)-matrix\n",
    "#       `Lambda` is (d)-vector\n",
    "#       `V` is (d,n)-matrix\n",
    "#     ...\n",
    "#     return y, Lambda, V"
   ]
  },
  {
   "cell_type": "code",
   "execution_count": null,
   "id": "f0233597",
   "metadata": {},
   "outputs": [],
   "source": [
    "import numpy as np\n",
    "from numpy.random import seed, randn, rand\n",
    "import plotly.express as px\n",
    "import plotly.graph_objs as go\n",
    "from plotly.subplots import make_subplots\n",
    "import torchvision.datasets"
   ]
  },
  {
   "cell_type": "code",
   "execution_count": null,
   "id": "9d27219e",
   "metadata": {},
   "outputs": [],
   "source": [
    "#iterable = lambda x: hasattr(x, '__iter__')\n",
    "#def rand(*args):\n",
    "#    if len(args) == 1 and iterable(args[0]): # allows rand([3,4])\n",
    "#        return np.random.rand(*args[0])      # allows rand(3,4)\n",
    "#    return np.random.rand(*args)\n",
    "#def randn(*args):\n",
    "#    if len(args) == 1 and iterable(args[0]):\n",
    "#        return np.random.randn(*args[0])  # allows randn([3,4])\n",
    "#    return np.random.randn(*args)         # allows randn(3,4)\n",
    "#def ones(*args):\n",
    "#    if len(args) == 1:\n",
    "#        return np.ones(args[0])   # allows ones([3,4])\n",
    "#    return np.ones(args)          # allows ones(3,4)\n",
    "#def zeros(*args):\n",
    "#    if len(args) == 1:\n",
    "#        return np.zeros(args[0])  # allows zeros([3,4])\n",
    "#    return np.zeros(args)         # allows zeros(3,4)"
   ]
  },
  {
   "cell_type": "code",
   "execution_count": null,
   "id": "994a16dd",
   "metadata": {},
   "outputs": [],
   "source": [
    "def random_rotation(d, D):\n",
    "    # random rotation matrix \n",
    "    # input d dimensions\n",
    "    # output D dimensions\n",
    "    # e.g. \n",
    "    #   Z = randn(n, d)\n",
    "    #   U = random_rotation(d, D)\n",
    "    #   X = Z @ U\n",
    "    # to rotate `d` dimensions randomly into `D`\n",
    "    if d is None: d = D\n",
    "    if D<d: raise \"D must not be smaller than d\"\n",
    "    # sample a random rotation matrix\n",
    "    X = np.random.randn(d, D)\n",
    "    # return economy sized matrices\n",
    "    return np.linalg.svd(X, full_matrices=False)[2]\n",
    "U = random_rotation(2,3)\n",
    "print(U)\n",
    "print(U.T @ U)    # is identity if D==d\n",
    "print(U @ U.T)    # must be identity"
   ]
  },
  {
   "cell_type": "code",
   "execution_count": null,
   "id": "c2aaa449",
   "metadata": {},
   "outputs": [],
   "source": [
    "help(np.linalg.eig)    # for square matrices\n",
    "help(np.linalg.eigh)   # for symmetric square matrices"
   ]
  },
  {
   "cell_type": "code",
   "execution_count": null,
   "id": "8fe5e3fa",
   "metadata": {},
   "outputs": [],
   "source": [
    "A = randn(3,3)\n",
    "A = A + A.T\n",
    "Lambda, V = np.linalg.eigh(A)\n",
    "print(\"Lambda = \\n\", Lambda)\n",
    "print(\"V = \\n\", V)\n",
    "print(\"A = \\n\", A)\n",
    "print(\"V @ Diag(Lambda) @ V.T = \\n\", V @ np.diag(Lambda) @ V.T)"
   ]
  },
  {
   "cell_type": "code",
   "execution_count": null,
   "id": "0904026a",
   "metadata": {},
   "outputs": [],
   "source": [
    "V.T @ V"
   ]
  },
  {
   "cell_type": "code",
   "execution_count": null,
   "id": "290b7dbe",
   "metadata": {},
   "outputs": [],
   "source": [
    "help(np.linalg.svd)"
   ]
  },
  {
   "cell_type": "code",
   "execution_count": null,
   "id": "df29a879",
   "metadata": {},
   "outputs": [],
   "source": [
    "A = randn(3,4)\n",
    "#help(np.linalg.svd)\n",
    "[U,S,V] = np.linalg.svd(A, full_matrices=False)\n",
    "print(U.shape, S.shape, V.shape)\n",
    "#print((U * S) @ V)\n",
    "print(U @ np.diag(S) @ V)\n",
    "print(A)"
   ]
  },
  {
   "cell_type": "code",
   "execution_count": null,
   "id": "10cabe86",
   "metadata": {},
   "outputs": [],
   "source": [
    "print(V @ V.T)  # Harmeling\n",
    "print(V.T @ V)  #"
   ]
  },
  {
   "cell_type": "code",
   "execution_count": null,
   "id": "95fdf7bb",
   "metadata": {},
   "outputs": [],
   "source": [
    "help(np.linalg.svd)"
   ]
  },
  {
   "cell_type": "code",
   "execution_count": null,
   "id": "2f597cc1",
   "metadata": {},
   "outputs": [],
   "source": [
    "def show_3d(X):\n",
    "    fig = px.scatter_3d(x=X[0], y=X[1], z=X[2])\n",
    "    return fig"
   ]
  },
  {
   "cell_type": "code",
   "execution_count": null,
   "id": "cc58afa7",
   "metadata": {},
   "outputs": [],
   "source": [
    "# based on https://stackoverflow.com/questions/66789390/draw-an-arrow-between-two-specific-points-in-a-scatter-plot-with-plotly-graph-ob\n",
    "def add_arrow_3d(fig, FROM, TO, color='rgb(255,0,0)'):\n",
    "    # draw an arrow from x0 to x1\n",
    "    # draw a line\n",
    "    fig.add_trace(go.Scatter3d(x=[FROM[0],TO[0]],\n",
    "                               y=[FROM[1],TO[1]],\n",
    "                               z=[FROM[2],TO[2]],\n",
    "                               mode='lines',\n",
    "                               line = dict(width=5, color=color)))\n",
    "    # draw the arrow head\n",
    "    arrow_tip_ratio = 1.0\n",
    "    arrow_starting_ratio = 0.98\n",
    "    v = [t-f for (t,f) in zip(TO, FROM)]\n",
    "    norm_v = np.sqrt(v[0]**2 + v[1]**2 + v[2]**2)\n",
    "    fig.add_trace(go.Cone(\n",
    "        x=[FROM[0] + arrow_starting_ratio*v[0]],\n",
    "        y=[FROM[1] + arrow_starting_ratio*v[1]],\n",
    "        z=[FROM[2] + arrow_starting_ratio*v[2]],\n",
    "        u=[arrow_tip_ratio*v[0]/norm_v],\n",
    "        v=[arrow_tip_ratio*v[1]/norm_v],\n",
    "        w=[arrow_tip_ratio*v[2]/norm_v],\n",
    "        showlegend=False,\n",
    "        showscale=False,\n",
    "        colorscale=[[0, color], [1, color]]\n",
    "        ))"
   ]
  },
  {
   "cell_type": "markdown",
   "id": "f213f466",
   "metadata": {},
   "source": [
    "\n",
    "<a class=\"anchor\" id=\"twod\"></a>\n",
    "## 1. TwoD dataset rotated into ThreeD plus noise"
   ]
  },
  {
   "cell_type": "code",
   "execution_count": null,
   "id": "b274df26",
   "metadata": {},
   "outputs": [],
   "source": [
    "n, d, D = 100, 2, 3\n",
    "seed(0)\n",
    "Z = randn(n, d)\n",
    "Z[:,1] *= 2.0      # rescale one of the axis\n",
    "U = random_rotation(d, D)\n",
    "sigma_sq = 0.03        # noise variance\n",
    "X = Z @ U + sigma_sq * randn(n, D)\n",
    "\n",
    "# show the data\n",
    "fig = px.scatter_3d(x=X[:,0], y=X[:,1], z=X[:,2], color=X[:,0])\n",
    "fig.show()"
   ]
  },
  {
   "cell_type": "code",
   "execution_count": null,
   "id": "561c040d",
   "metadata": {},
   "outputs": [],
   "source": [
    "# run PCA on it to the PCA direction\n",
    "y, Lambda, V = pca(X, 3)\n",
    "mu = X.mean(axis=0)\n",
    "# show the results\n",
    "fig = px.scatter_3d(x=X[:,0], y=X[:,1], z=X[:,2])\n",
    "fig.update_traces(marker={'size': 5})\n",
    "add_arrow_3d(fig, mu, mu + 2*np.sqrt(Lambda[0])*V[0])\n",
    "add_arrow_3d(fig, mu, mu + 2*np.sqrt(Lambda[1])*V[1])\n",
    "add_arrow_3d(fig, mu, mu + 2*np.sqrt(Lambda[2])*V[2])\n",
    "fig.update_layout(width=800, height=800)\n",
    "fig.update_layout(showlegend=False)\n",
    "fig.show()"
   ]
  },
  {
   "cell_type": "code",
   "execution_count": null,
   "id": "3edfe88a",
   "metadata": {},
   "outputs": [],
   "source": [
    "#fig.write_image('two_d_in_three_d.pdf')\n",
    "Lambda"
   ]
  },
  {
   "cell_type": "markdown",
   "id": "dd415e22",
   "metadata": {},
   "source": [
    "<a class=\"anchor\" id=\"eigendigits\"></a>\n",
    "## 2. Eigendigits"
   ]
  },
  {
   "cell_type": "code",
   "execution_count": null,
   "id": "f6b667e4",
   "metadata": {},
   "outputs": [],
   "source": [
    "digits = torchvision.datasets.MNIST(root='', download=True)\n",
    "x = digits.data.numpy()\n",
    "y = digits.targets.numpy()"
   ]
  },
  {
   "cell_type": "code",
   "execution_count": null,
   "metadata": {},
   "outputs": [],
   "source": [
    "zeros = x[y==0]\n",
    "ones  = x[y==1]\n",
    "twos  = x[y==2]\n",
    "twos.shape"
   ]
  },
  {
   "cell_type": "code",
   "execution_count": null,
   "id": "9945508f",
   "metadata": {},
   "outputs": [],
   "source": [
    "def digits_gallery(x, columns=10):\n",
    "    z = x\n",
    "    n = z.shape[0]    # number of digits\n",
    "    m = n % columns   # how many extra in the last row\n",
    "    h,w = x.shape[1], x.shape[2]\n",
    "    if m > 0:\n",
    "        z = np.vstack([z, np.zeros((columns-m,h,w))])  # fill with zeros\n",
    "    n = z.shape[0]\n",
    "    rows = n//columns\n",
    "    z = z.reshape(rows, columns, h, w)\n",
    "    z = z.transpose([0,2,1,3])\n",
    "    z = z.reshape(rows*h, columns*w)\n",
    "    return z.astype(float)\n",
    "def plot_digits(x, columns=10, width=800, height=800):\n",
    "    fig = px.imshow(digits_gallery(x, columns), \n",
    "                 color_continuous_scale='Greys')\n",
    "    fig.update_layout(width=width, height=height)\n",
    "    return fig\n",
    "fig = plot_digits(zeros[:100],10)\n",
    "#fig.write_image('mnist_digits.pdf')\n",
    "fig.show()"
   ]
  },
  {
   "cell_type": "code",
   "execution_count": null,
   "id": "0ef2d430",
   "metadata": {},
   "outputs": [],
   "source": [
    "# run pca on the digits\n",
    "d = 100\n",
    "y, Lambda, V = pca(zeros, d)\n",
    "fig = plot_digits(V, 10)\n",
    "#fig.write_image('mnist_eigendigits.pdf')\n",
    "fig.show()"
   ]
  },
  {
   "cell_type": "code",
   "execution_count": null,
   "id": "88784351",
   "metadata": {},
   "outputs": [],
   "source": [
    "px.line(Lambda, title='Eigenvalue spectrum')"
   ]
  },
  {
   "cell_type": "code",
   "execution_count": null,
   "id": "76739c65",
   "metadata": {},
   "outputs": [],
   "source": [
    "# reconstructing from a few components\n",
    "\n",
    "# use einsum for this!!!\n",
    "d_reconstruction = 3   # how many eigenvectors to use\n",
    "plot_digits(pca_project(twos[:100], V[:d_reconstruction]), 10)\n",
    "# fig = make_subplots(rows=1, cols=2)\n",
    "#     fig.add_trace("
   ]
  },
  {
   "cell_type": "markdown",
   "id": "f151b180",
   "metadata": {},
   "source": [
    "<a class=\"anchor\" id=\"kpca\"></a>\n",
    "## 3. Kernel PCA"
   ]
  },
  {
   "cell_type": "code",
   "execution_count": null,
   "id": "7322c729",
   "metadata": {},
   "outputs": [],
   "source": [
    "# here we assume that each data point is a row!!!\n",
    "def polynomial_kernel(x, x_prime, p, b=0):\n",
    "    return (x @ x_prime.T + b)**p\n",
    "def linear_kernel(x, x_prime):\n",
    "    return polynomial_kernel(x, x_prime, 1, 0)\n",
    "def gaussian_kernel(x, x_prime, sigma_sq=1.0):\n",
    "    m,n = x.shape[0], x_prime.shape[0]\n",
    "    all_distances_sq = (x**2).sum(1).reshape(m,1) \\\n",
    "        + (x_prime**2).sum(1).reshape(1,n)        \\\n",
    "        - 2*(x@x_prime.T)\n",
    "    return np.exp(-all_distances_sq / (2*sigma_sq))"
   ]
  },
  {
   "cell_type": "code",
   "execution_count": null,
   "id": "ba11bbf9",
   "metadata": {},
   "outputs": [],
   "source": [
    "def plot_pca(x, y, columns=2):\n",
    "    d = y.shape[1]    # number of principal components\n",
    "    rows = (d//columns) + (d%columns > 0)\n",
    "    fig = make_subplots(rows=rows, cols=columns)\n",
    "    i = 0\n",
    "    for r in range(rows):\n",
    "        for c in range(columns):\n",
    "            fig.add_trace(go.Scatter(x=x[:,0], y=x[:,1], \n",
    "                             marker=dict(color=y[:,i],\n",
    "                                         colorscale=\"Viridis\"), \n",
    "                             mode='markers'), \n",
    "                  row=r+1, col=c+1)\n",
    "            fig.update_yaxes(scaleanchor='x', scaleratio=1)\n",
    "            i += 1\n",
    "            if i >= d:\n",
    "                break\n",
    "    return fig"
   ]
  },
  {
   "cell_type": "code",
   "execution_count": null,
   "id": "709d0e41",
   "metadata": {},
   "outputs": [],
   "source": [
    "# toy data: arc\n",
    "n = 1000\n",
    "x = 2*rand(n, 2)-1\n",
    "x[:,1] = x[:,0]**2\n",
    "x += 0.03 * randn(n, 2)\n",
    "k = lambda x, x_prime: gaussian_kernel(x, x_prime, 1.0)\n",
    "#k = lambda x, x_prime: linear_kernel(x, x_prime)\n",
    "y, Lambda, V = kpca(x, 4, k)\n",
    "plot_pca(x, y, columns=2)"
   ]
  },
  {
   "cell_type": "code",
   "execution_count": null,
   "id": "8b785d02",
   "metadata": {
    "scrolled": true
   },
   "outputs": [],
   "source": [
    "# toy data: cluster\n",
    "n = 1000\n",
    "x = randn(n, 2)\n",
    "x[:n//2,0] += 10.0\n",
    "x[n//4:3*n//4,1] += 10.0\n",
    "k = lambda x, x_prime: gaussian_kernel(x, x_prime, 3.0)\n",
    "#k = lambda x, x_prime: linear_kernel(x, x_prime)\n",
    "y, Lambda, V = kpca(x, 4, k)\n",
    "plot_pca(x, y, columns=2)"
   ]
  },
  {
   "cell_type": "code",
   "execution_count": null,
   "id": "5cd059b3",
   "metadata": {},
   "outputs": [],
   "source": [
    "# toy data: sheet of paper\n",
    "n = 1000\n",
    "x = rand(n, 2)\n",
    "x[:,0] *= 5.0\n",
    "k = lambda x, x_prime: gaussian_kernel(x, x_prime, 1.0)\n",
    "#k = lambda x, x_prime: linear_kernel(x, x_prime)\n",
    "y, Lambda, V = kpca(x, 25, k)\n",
    "plot_pca(x, y, columns=5)"
   ]
  },
  {
   "cell_type": "code",
   "execution_count": null,
   "id": "02b881b3",
   "metadata": {},
   "outputs": [],
   "source": []
  }
 ],
 "metadata": {
  "@webio": {
   "lastCommId": null,
   "lastKernelId": null
  },
  "kernelspec": {
   "display_name": "Python 3 (ipykernel)",
   "language": "python",
   "name": "python3"
  },
  "language_info": {
   "codemirror_mode": {
    "name": "ipython",
    "version": 3
   },
   "file_extension": ".py",
   "mimetype": "text/x-python",
   "name": "python",
   "nbconvert_exporter": "python",
   "pygments_lexer": "ipython3",
   "version": "3.9.6"
  }
 },
 "nbformat": 4,
 "nbformat_minor": 5
}
