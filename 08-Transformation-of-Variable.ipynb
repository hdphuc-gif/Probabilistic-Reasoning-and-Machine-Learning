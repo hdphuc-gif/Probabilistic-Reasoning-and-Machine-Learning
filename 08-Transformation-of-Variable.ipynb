{
 "cells": [
  {
   "cell_type": "markdown",
   "id": "5ebc9620",
   "metadata": {},
   "source": [
    "# Transformation of variable example"
   ]
  },
  {
   "cell_type": "code",
   "execution_count": 43,
   "id": "5f11ecd7",
   "metadata": {},
   "outputs": [],
   "source": [
    "from numpy import log, exp\n",
    "from numpy.random import beta\n",
    "from scipy.special import digamma"
   ]
  },
  {
   "cell_type": "code",
   "execution_count": 44,
   "id": "786235a2",
   "metadata": {},
   "outputs": [],
   "source": [
    "n = 10000000\n",
    "a = 4\n",
    "b = 3\n",
    "PI = beta(a, b, n)     # sample from a Beta distribution"
   ]
  },
  {
   "cell_type": "code",
   "execution_count": 45,
   "id": "fc04beb2",
   "metadata": {},
   "outputs": [],
   "source": [
    "def x(pi):\n",
    "    return log(pi/(1-pi))\n",
    "def pi(x):\n",
    "    return 1/(1+exp(-x))"
   ]
  },
  {
   "cell_type": "code",
   "execution_count": 46,
   "id": "bb6e8b27",
   "metadata": {},
   "outputs": [],
   "source": [
    "X = x(PI)"
   ]
  },
  {
   "cell_type": "code",
   "execution_count": 47,
   "id": "ed734991",
   "metadata": {},
   "outputs": [
    {
     "name": "stdout",
     "output_type": "stream",
     "text": [
      "0.2875074091173111\n",
      "0.33309114748834273\n"
     ]
    }
   ],
   "source": [
    "print(x(PI.mean()))\n",
    "print(X.mean())"
   ]
  },
  {
   "cell_type": "markdown",
   "id": "0f7f5981",
   "metadata": {},
   "source": [
    "So we see that the statement that the mean does not change under a transformation is wrong!"
   ]
  },
  {
   "cell_type": "markdown",
   "id": "85487e52",
   "metadata": {},
   "source": [
    "From https://stats.stackexchange.com/questions/241993/pdf-of-y-logx-when-x-is-beta-distributed-the-expected-value-of-y we see that the expectation of $\\log \\pi$ is related to the digamma function.  More concretely, $E \\log\\pi=\\psi(a)-\\psi(a+b)$ where $\\psi$ is the digamma function.\n",
    "Let's use that!"
   ]
  },
  {
   "cell_type": "code",
   "execution_count": 48,
   "id": "5ee54ad7",
   "metadata": {},
   "outputs": [
    {
     "name": "stdout",
     "output_type": "stream",
     "text": [
      "0.33309114748834273\n",
      "0.33333333333333315\n"
     ]
    }
   ],
   "source": [
    "print(X.mean())\n",
    "print(digamma(a) - digamma(b))   # follows from log pi/(1-pi) == log pi - log(1-pi)"
   ]
  },
  {
   "cell_type": "markdown",
   "id": "76dbb953",
   "metadata": {},
   "source": [
    "Yes!  We got the correct formula!"
   ]
  }
 ],
 "metadata": {
  "kernelspec": {
   "display_name": "Python 3 (ipykernel)",
   "language": "python",
   "name": "python3"
  },
  "language_info": {
   "codemirror_mode": {
    "name": "ipython",
    "version": 3
   },
   "file_extension": ".py",
   "mimetype": "text/x-python",
   "name": "python",
   "nbconvert_exporter": "python",
   "pygments_lexer": "ipython3",
   "version": "3.9.13"
  }
 },
 "nbformat": 4,
 "nbformat_minor": 5
}
