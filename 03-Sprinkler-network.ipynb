{
 "cells": [
  {
   "cell_type": "markdown",
   "id": "744b7af6",
   "metadata": {},
   "source": [
    "# Tracy, Jack and the wet grass"
   ]
  },
  {
   "cell_type": "code",
   "execution_count": null,
   "id": "90ca5b71",
   "metadata": {},
   "outputs": [],
   "source": [
    "from random import random as rand\n",
    "flip = lambda theta: rand() < theta    # biased coin flip"
   ]
  },
  {
   "cell_type": "code",
   "execution_count": null,
   "id": "4288418c",
   "metadata": {},
   "outputs": [],
   "source": [
    "# simple implementation of the sprinkler network\n",
    "p_R1      = 0.2            # p(R=1) = ...\n",
    "p_S1      = 0.1            # p(S=1) = ...\n",
    "p_J1_R1   = 1.0            # p(J=1|R=1) = ...\n",
    "p_J1_R0   = 0.2            # p(J=1|R=0) = ...\n",
    "p_T1_R1S0 = 1.0            # p(T=1|R=1,S=0) = ...\n",
    "p_T1_R1S1 = 1.0            # p(T=1|R=1,S=1) = ...\n",
    "p_T1_R0S1 = 0.9            # p(T=1|R=0,S=1) = ...\n",
    "p_T1_R0S0 = 0.0            # p(T=1|R=0,S=0) = ..."
   ]
  },
  {
   "cell_type": "code",
   "execution_count": null,
   "id": "e1e36b20",
   "metadata": {},
   "outputs": [],
   "source": [
    "def sample():\n",
    "    R = flip(p_R1)\n",
    "    S = flip(p_S1)\n",
    "    if R:\n",
    "        J = flip(p_J1_R1)\n",
    "    else:\n",
    "        J = flip(p_J1_R0)\n",
    "    if R and S:\n",
    "        T = flip(p_T1_R1S1)\n",
    "    elif R and not S:\n",
    "        T = flip(p_T1_R1S0)\n",
    "    elif not R and S:\n",
    "        T = flip(p_T1_R0S1)            \n",
    "    else:\n",
    "        T = flip(p_T1_R0S0)\n",
    "    return (R, S, J, T)"
   ]
  },
  {
   "cell_type": "code",
   "execution_count": null,
   "id": "b41ff106",
   "metadata": {},
   "outputs": [],
   "source": [
    "def str(R, S, J, T):\n",
    "    s = ''\n",
    "    s += 'rain' if R else 'no rain'\n",
    "    s += ', sprinkler' if S else ', no sprinkler'\n",
    "    s += ', Jack' if J else ', no Jack'\n",
    "    s += ', Tracy' if T else ', no Tracy'\n",
    "    return s"
   ]
  },
  {
   "cell_type": "code",
   "execution_count": null,
   "id": "70040711",
   "metadata": {},
   "outputs": [],
   "source": [
    "for i in range(50):\n",
    "    print(str(*sample()))"
   ]
  },
  {
   "cell_type": "code",
   "execution_count": null,
   "id": "3f207fac",
   "metadata": {},
   "outputs": [],
   "source": [
    "# calculate the joint probability\n",
    "def joint_prob(R,S,J,T):\n",
    "    p = 1.0\n",
    "    p *= p_R1 if R else (1-p_R1)\n",
    "    p *= p_S1 if S else (1-p_S1)\n",
    "    if R:\n",
    "        p *= p_J1_R1 if J else (1-p_J1_R1)\n",
    "    else:\n",
    "        p *= p_J1_R0 if J else (1-p_J1_R0)\n",
    "    if R and S:\n",
    "        p *= p_T1_R1S1 if T else (1-p_T1_R1S1)\n",
    "    elif R and not S:\n",
    "        p *= p_T1_R1S0 if T else (1-p_T1_R1S0)\n",
    "    elif not R and S:\n",
    "        p *= p_T1_R0S1 if T else (1-p_T1_R0S1)\n",
    "    else:\n",
    "        p *= p_T1_R0S0 if T else (1-p_T1_R0S0)\n",
    "    return p\n",
    "# test time\n",
    "assert joint_prob(R=True, S=True, J=True, T=True) == p_R1*p_S1*p_J1_R1*p_T1_R1S1, \"BUG\"\n",
    "assert joint_prob(R=True, S=False, J=True, T=True) == p_R1*(1-p_S1)*p_J1_R1*p_T1_R1S1, \"BUG\"\n",
    "assert joint_prob(R=False, S=True, J=False, T=True) == (1-p_R1)*p_S1*(1-p_J1_R0)*p_T1_R0S1, \"BUG\""
   ]
  },
  {
   "cell_type": "code",
   "execution_count": null,
   "id": "ee1f640a",
   "metadata": {},
   "outputs": [],
   "source": [
    "for i in range(20):\n",
    "    print(joint_prob(*sample()))"
   ]
  },
  {
   "cell_type": "code",
   "execution_count": null,
   "id": "3fc1bfed",
   "metadata": {},
   "outputs": [],
   "source": [
    "# calculate probabilities with the sum rule\n",
    "def marginal_prob(R=None, S=None, J=None, T=None):\n",
    "    # if the value is None, we sum it out!\n",
    "    # note: \n",
    "    #    marginal_prob() == 1.0\n",
    "    #    marginal_prob(R, S, J, T) == joint_prob(R, S, J, T)\n",
    "    R = [True, False] if R is None else [R]  # must be iterable\n",
    "    S = [True, False] if S is None else [S]  # must be iterable\n",
    "    J = [True, False] if J is None else [J]  # must be iterable\n",
    "    T = [True, False] if T is None else [T]  # must be iterable\n",
    "    p = 0.0\n",
    "    for r in R:\n",
    "        for s in S:\n",
    "            for j in J:\n",
    "                for t in T:\n",
    "                    p += joint_prob(r, s, j, t)\n",
    "    return p\n",
    "# test time:\n",
    "assert marginal_prob() == 1.0, \"BUG, probability must sum to one\"\n",
    "R, S, J, T = flip(0.5), flip(0.5), flip(0.5), flip(0.5)\n",
    "m = marginal_prob(R, S, J, T)\n",
    "j = joint_prob(R, S, J, T)\n",
    "assert m == j, \"BUG\""
   ]
  },
  {
   "cell_type": "code",
   "execution_count": null,
   "id": "c0852ec7",
   "metadata": {},
   "outputs": [],
   "source": [
    "# calculate conditional probability\n",
    "def cond_prob(R=None, S=None, J=None, T=None,\n",
    "             R_cond=None, S_cond=None, J_cond=None, T_cond=None):\n",
    "    # the '*_cond' are the variable we condition on\n",
    "    # note:\n",
    "    #    cond_prob(R, S, J, T) == marginal_prob(R, S, J, T)\n",
    "    #    cond_prob(R=True, R_cond=False) == 0.0\n",
    "    denominator = marginal_prob(R_cond, S_cond, J_cond, T_cond)\n",
    "    # let's collect the variables for the nominator\n",
    "    if R_cond is None: R_nom = R         # keep the LHS\n",
    "    elif    R is None: R_nom = R_cond    # keep the RHS\n",
    "    elif  R == R_cond: R_nom = R         # keep any\n",
    "    else: return 0.0                     # LHS and RHS missmatch\n",
    "    if S_cond is None: S_nom = S\n",
    "    elif    S is None: S_nom = S_cond\n",
    "    elif  S == S_cond: S_nom = S\n",
    "    else: return 0.0\n",
    "    if J_cond is None: J_nom = J\n",
    "    elif    J is None: J_nom = J_cond\n",
    "    elif  J == J_cond: J_nom = J\n",
    "    else: return 0.0\n",
    "    if T_cond is None: T_nom = T\n",
    "    elif    T is None: T_nom = T_cond\n",
    "    elif  T == T_cond: T_nom = T\n",
    "    else: return 0.0\n",
    "    nominator = marginal_prob(R_nom, S_nom, J_nom, T_nom)\n",
    "    return nominator/denominator\n",
    "# test time\n",
    "assert cond_prob(R, S, J, T) == marginal_prob(R, S, J, T), \"BUG\"\n",
    "assert cond_prob(R=True, R_cond=False) == 0.0, \"BUG\""
   ]
  },
  {
   "cell_type": "code",
   "execution_count": null,
   "id": "d4c1c2eb",
   "metadata": {},
   "outputs": [],
   "source": [
    "# surprisingly it also works with number 1 and 0!\n",
    "# here are the examples from the lecture\n",
    "print(f'p(S=1|T=1)      == {cond_prob(S=1, T_cond=1)}')\n",
    "print(f'p(S=1|T=1,J=1)) == {cond_prob(S=1,T_cond=1,J_cond=1)}')"
   ]
  }
 ],
 "metadata": {
  "kernelspec": {
   "display_name": "Python 3 (ipykernel)",
   "language": "python",
   "name": "python3"
  },
  "language_info": {
   "codemirror_mode": {
    "name": "ipython",
    "version": 3
   },
   "file_extension": ".py",
   "mimetype": "text/x-python",
   "name": "python",
   "nbconvert_exporter": "python",
   "pygments_lexer": "ipython3",
   "version": "3.11.6"
  }
 },
 "nbformat": 4,
 "nbformat_minor": 5
}
