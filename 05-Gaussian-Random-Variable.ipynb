{
 "cells": [
  {
   "cell_type": "markdown",
   "id": "e8fcd437",
   "metadata": {},
   "source": [
    "# A class for Gaussian distributed random vectors\n",
    "A vector with a covariance matrix (error bars along the diagonal)."
   ]
  },
  {
   "cell_type": "code",
   "execution_count": 1,
   "id": "7c93efc0",
   "metadata": {},
   "outputs": [],
   "source": [
    "from numpy        import array, mean, cov, isscalar, asarray\n",
    "from numpy.linalg import cholesky, inv\n",
    "from numpy.random import randn"
   ]
  },
  {
   "cell_type": "markdown",
   "id": "a59fc256",
   "metadata": {},
   "source": [
    "Some relevant infos about how to implement it correctly:\n",
    "\n",
    "* why to subclass `ndarray`: \n",
    "  https://stackoverflow.com/questions/38229953/array-and-rmul-operator-in-python-numpy\n",
    "* why to implement `__new__`:\n",
    "  https://numpy.org/doc/stable/user/basics.subclassing.html\n",
    "\n",
    "Here we keep it a bit hacky..."
   ]
  },
  {
   "cell_type": "code",
   "execution_count": 2,
   "id": "8f3777f9",
   "metadata": {},
   "outputs": [],
   "source": [
    "# helper functions for slicing of two-D arrays\n",
    "def pick2(A, idx0, idx1=None):\n",
    "    if idx1 is None:\n",
    "        idx1 = idx0\n",
    "    idx0 = [[i] for i in idx0]   # weird numpy slicing\n",
    "    # https://stackoverflow.com/questions/4257394/slicing-of-a-numpy-2d-array-or-how-do-i-extract-an-mxm-submatrix-from-an-nxn-ar\n",
    "    return A[idx0, idx1]\n",
    "\n",
    "def inverse_range(l, idx):\n",
    "    return [i for i in range(l) if i not in idx]"
   ]
  },
  {
   "cell_type": "code",
   "execution_count": 3,
   "id": "5de46a49",
   "metadata": {},
   "outputs": [],
   "source": [
    "class GaussianRV():\n",
    "    \n",
    "    def __init__(self, mu, Sigma):\n",
    "        if isscalar(mu):\n",
    "            mu = asarray([[mu]])\n",
    "        if isscalar(Sigma):\n",
    "            Sigma = asarray([[Sigma]])\n",
    "        self.mu    = mu         # a vector\n",
    "        self.Sigma = Sigma      # must be a matrix\n",
    "        self.L     = cholesky(Sigma)   # L == sqrt(Sigma)\n",
    "        \n",
    "    def __repr__(self):\n",
    "        s = f\"GaussianRV of shape {self.mu.shape}\"\n",
    "        if self.mu.shape[0] < 7:\n",
    "            s += f\"\\nparameter mu    = \\n{self.mu}\"\n",
    "            s += f\"\\nparameter Sigma = \\n{self.Sigma}\"\n",
    "        return s\n",
    "    \n",
    "    def __add__(self, other):\n",
    "        # overload self + other\n",
    "        if isinstance(other, GaussianRV):\n",
    "            # adding another GaussianRV\n",
    "            return GaussianRV(self.mu    + other.mu, \n",
    "                              self.Sigma + other.Sigma)\n",
    "        else:\n",
    "            # adding a constant\n",
    "            return GaussianRV(self.mu + other, self.Sigma)\n",
    "    \n",
    "    def __minus__(self, other):\n",
    "        # overload self - other\n",
    "        # note that the variances are added\n",
    "        return GaussianRV(self.mu    - other.mu,\n",
    "                          self.Sigma + other.Sigma)\n",
    "    \n",
    "    def __mul__(self, other):\n",
    "        # for scalar multiplication\n",
    "        # overload self * other\n",
    "        return GaussianRV(other*self.mu,\n",
    "                          other*other*self.Sigma)\n",
    "        \n",
    "    def __rmul__(self, other):\n",
    "        # overload other * self\n",
    "        return self * other\n",
    "    \n",
    "    def sample(self, n=1):\n",
    "        return self.L @ randn(self.mu.shape[0], n) + self.mu\n",
    "\n",
    "    def lin_trafo(self, A, b=None):\n",
    "        # linear transformation of a Gaussian\n",
    "        Y = GaussianRV(A @ self.mu, \n",
    "                       A @ self.Sigma @ A.T)\n",
    "        if b is not None:\n",
    "            Y = Y + b\n",
    "        return Y\n",
    "        \n",
    "    def sum(self, keep_idx):\n",
    "        # 'keep_idx' contains the indices to keep,\n",
    "        # i.e. all others are summed out\n",
    "                return GaussianRV(mu[keep_idx], pick2(Sigma, keep_idx))\n",
    "        \n",
    "    def cond(self, cond_idx, cond_values):\n",
    "        # let's use the notation of section06/slide21\n",
    "        assert (cond_values.shape == self.mu[cond_idx].shape), \"shape of conditional does not match\"\n",
    "        keep_idx = inverse_range(self.mu.shape[0], cond_idx)\n",
    "        mu, nu   = self.mu[keep_idx], self.mu[cond_idx]\n",
    "        print(mu)\n",
    "        print(nu)\n",
    "        A, C     = pick2(Sigma, keep_idx), pick2(Sigma, cond_idx)\n",
    "        B        = pick2(Sigma, keep_idx, cond_idx)\n",
    "        return GaussianRV(mu + B @ inv(C) @ (cond_value - nu),  # cond mean\n",
    "                          A  - B @ inv(C) @ B.T)                # cond var\n"
   ]
  },
  {
   "cell_type": "code",
   "execution_count": 4,
   "id": "063e6f7d",
   "metadata": {},
   "outputs": [
    {
     "name": "stdout",
     "output_type": "stream",
     "text": [
      "GaussianRV of shape (5, 1)\n",
      "parameter mu    = \n",
      "[[ 0.86944036]\n",
      " [ 0.2177893 ]\n",
      " [ 0.5072294 ]\n",
      " [-0.79800416]\n",
      " [-0.46285696]]\n",
      "parameter Sigma = \n",
      "[[ 3.86059716 -1.10083396 -0.44180812  1.47934822 -1.52275099]\n",
      " [-1.10083396  4.30330503  1.3948638  -1.22710971  0.06028574]\n",
      " [-0.44180812  1.3948638   2.81169142 -0.29177485  0.66375475]\n",
      " [ 1.47934822 -1.22710971 -0.29177485  1.81517099 -1.05751388]\n",
      " [-1.52275099  0.06028574  0.66375475 -1.05751388  2.09586009]]\n"
     ]
    }
   ],
   "source": [
    "# test\n",
    "mu    = randn(5,1)\n",
    "A     = randn(5,5)\n",
    "Sigma = A@A.T   # symmetrize A\n",
    "X     = GaussianRV(mu, Sigma)\n",
    "print(X)"
   ]
  },
  {
   "cell_type": "code",
   "execution_count": 5,
   "id": "f5d01aa3",
   "metadata": {},
   "outputs": [
    {
     "data": {
      "text/plain": [
       "GaussianRV of shape (2, 1)\n",
       "parameter mu    = \n",
       "[[0.86944036]\n",
       " [0.5072294 ]]\n",
       "parameter Sigma = \n",
       "[[ 3.86059716 -0.44180812]\n",
       " [-0.44180812  2.81169142]]"
      ]
     },
     "execution_count": 5,
     "metadata": {},
     "output_type": "execute_result"
    }
   ],
   "source": [
    "# sum out some of the coordinates\n",
    "keep_idx = [0, 2]\n",
    "Y = X.sum(keep_idx)\n",
    "Y"
   ]
  },
  {
   "cell_type": "code",
   "execution_count": 6,
   "id": "abe4ebc6",
   "metadata": {},
   "outputs": [
    {
     "name": "stdout",
     "output_type": "stream",
     "text": [
      "[[0.86944036]\n",
      " [0.5072294 ]]\n",
      "[[ 0.2177893 ]\n",
      " [-0.79800416]\n",
      " [-0.46285696]]\n",
      "GaussianRV of shape (2, 1)\n",
      "parameter mu    = \n",
      "[[1.01505772]\n",
      " [1.01412529]]\n",
      "parameter Sigma = \n",
      "[[2.31124223 0.19133916]\n",
      " [0.19133916 1.97028339]]\n"
     ]
    }
   ],
   "source": [
    "# condition on a value\n",
    "cond_idx = [1,3,4]\n",
    "cond_value = array([[0.0], [0.0], [0.0]])\n",
    "Z = X.cond(cond_idx, cond_value)\n",
    "print(Z)                   "
   ]
  },
  {
   "cell_type": "code",
   "execution_count": 7,
   "id": "d0085dd7",
   "metadata": {},
   "outputs": [
    {
     "name": "stdout",
     "output_type": "stream",
     "text": [
      "GaussianRV of shape (2, 1)\n",
      "parameter mu    = \n",
      "[[1.01505772]\n",
      " [1.01412529]]\n",
      "parameter Sigma = \n",
      "[[2.31124223 0.19133916]\n",
      " [0.19133916 1.97028339]]\n",
      "empirical parameters\n",
      "[1.00295906 1.00306993]\n",
      "[[2.2877466  0.18241463]\n",
      " [0.18241463 1.96336015]]\n"
     ]
    }
   ],
   "source": [
    "# sample from the conditional distribution\n",
    "print(Z)\n",
    "z = Z.sample(10000)\n",
    "print('empirical parameters')\n",
    "print(mean(z, axis=1))   # calling `mean` from numpy\n",
    "print(cov(z))            # calling `cov` from numpy"
   ]
  },
  {
   "cell_type": "code",
   "execution_count": 8,
   "id": "55303dd9",
   "metadata": {},
   "outputs": [
    {
     "name": "stdout",
     "output_type": "stream",
     "text": [
      "GaussianRV of shape (3, 1)\n",
      "parameter mu    = \n",
      "[[-1.26736696]\n",
      " [-1.6307806 ]\n",
      " [-3.88595572]]\n",
      "parameter Sigma = \n",
      "[[ 7.96982777  1.96640535 -1.21319612]\n",
      " [ 1.96640535 11.49028547  6.03240573]\n",
      " [-1.21319612  6.03240573  7.14788018]]\n"
     ]
    }
   ],
   "source": [
    "# linear transformation\n",
    "A = randn(3, 5)\n",
    "b = randn(3, 1)\n",
    "Z = X.lin_trafo(A, b)\n",
    "print(Z)"
   ]
  },
  {
   "cell_type": "markdown",
   "id": "58e150ec",
   "metadata": {},
   "source": [
    "### Playing around with Gaussian prior, likelihood and posterior\n",
    "Let's assume a Gaussian prior and likelihood, \n",
    "$$ p(x) = \\mathcal{N}(x, \\mu_0, \\sigma_0^2)$$\n",
    "$$ p(y|x) = \\mathcal{N}(y|x, \\tau^2)$$\n",
    "which imply a Gaussian posterior,\n",
    "$$ p(x|y) = \\mathcal{N}(x|\\mu_1(y),\\sigma_1^2)$$\n",
    "with posterior mean $\\mu_1$ and posterior variance $\\sigma_1^2$:\n",
    "$$ \\mu_1 = \\frac{\\sigma_0^{-2}\\mu+\\tau^{-2}y}{\\sigma_0^{-2}+\\tau^{-2}}=\n",
    "\\frac{\\sigma_1^2}{\\sigma_0^2}\\mu + \\frac{\\sigma_1^2}{\\tau^2}y$$\n",
    "$$ \\sigma_1^2 = \\frac{1}{\\sigma_0^{-2}+\\tau^{-2}}\n",
    "= \\frac{1}{1/\\sigma_0^2 + 1/\\tau^2}$$\n",
    "where we just rewrote the formulas a bit."
   ]
  },
  {
   "cell_type": "code",
   "execution_count": 9,
   "id": "b93eaffb",
   "metadata": {},
   "outputs": [],
   "source": [
    "from ipywidgets        import interact\n",
    "import matplotlib.pyplot as plt\n",
    "from numpy             import linspace\n",
    "from numpy.random      import randn\n",
    "from scipy.stats       import norm\n",
    "from math              import sqrt\n",
    "plt.rcParams['figure.figsize'] = (10, 6)"
   ]
  },
  {
   "cell_type": "code",
   "execution_count": 10,
   "id": "61c5e60d",
   "metadata": {},
   "outputs": [
    {
     "data": {
      "image/png": "[encoded data removed]",
      "text/plain": [
       "<Figure size 720x432 with 1 Axes>"
      ]
     },
     "metadata": {
      "needs_background": "light"
     },
     "output_type": "display_data"
    }
   ],
   "source": [
    "def plot_gaussian(mu, sigma_squared, name='', xlabel='', ylabel=''):\n",
    "    n = 100\n",
    "    x = linspace(-10, 10, n)\n",
    "    plt.plot(x, norm.pdf(x, loc=mu, scale=sqrt(sigma_squared)))\n",
    "    plt.xlabel(xlabel)\n",
    "    plt.ylabel(ylabel)\n",
    "    plt.title(f\"{name} mean={round(mu,2)} var={round(sigma_squared,2)}\")\n",
    "plot_gaussian(1.23, 4.56, 'example', 'foo', 'bar')"
   ]
  },
  {
   "cell_type": "code",
   "execution_count": 11,
   "id": "c668196e",
   "metadata": {},
   "outputs": [
    {
     "data": {
      "image/png": "[encoded data removed]",
      "text/plain": [
       "<Figure size 720x432 with 3 Axes>"
      ]
     },
     "metadata": {
      "needs_background": "light"
     },
     "output_type": "display_data"
    }
   ],
   "source": [
    "def plot_pdfs(y, mu0, sigma0_sq, tau_sq): \n",
    "    sigma1_sq = 1/(1/sigma0_sq + 1/tau_sq)\n",
    "    mu1       = sigma1_sq*(mu0/sigma0_sq + y/tau_sq)\n",
    "    plt.subplot(221)\n",
    "    plot_gaussian(mu0, sigma0_sq, 'prior',      'x', 'p(x)')\n",
    "    plt.subplot(222)\n",
    "    plot_gaussian(y,   tau_sq,    'likelihood', 'x', 'p(y|x)')\n",
    "    plt.subplot(223)\n",
    "    plot_gaussian(mu1, sigma1_sq, 'posterior',  'x', 'p(x|y)')\n",
    "plot_pdfs(1, 0, 4, 2)"
   ]
  },
  {
   "cell_type": "code",
   "execution_count": 12,
   "id": "d6d6b06e",
   "metadata": {},
   "outputs": [
    {
     "data": {
      "application/vnd.jupyter.widget-view+json": {
       "model_id": "4fa0e194794e483ba696041b70c0002f",
       "version_major": 2,
       "version_minor": 0
      },
      "text/plain": [
       "interactive(children=(IntSlider(value=0, description='y', max=10, min=-10), IntSlider(value=0, description='mu…"
      ]
     },
     "metadata": {},
     "output_type": "display_data"
    },
    {
     "data": {
      "text/plain": [
       "<function __main__.plot_pdfs(y, mu0, sigma0_sq, tau_sq)>"
      ]
     },
     "execution_count": 12,
     "metadata": {},
     "output_type": "execute_result"
    }
   ],
   "source": [
    "interact(plot_pdfs, \n",
    "         y=(-10,10,1), mu0=(-10,10,1), \n",
    "         sigma0_sq=(1,10,1), tau_sq=(1,10,1))"
   ]
  },
  {
   "cell_type": "code",
   "execution_count": null,
   "id": "13ce965b",
   "metadata": {},
   "outputs": [],
   "source": []
  }
 ],
 "metadata": {
  "kernelspec": {
   "display_name": "Python 3 (ipykernel)",
   "language": "python",
   "name": "python3"
  },
  "language_info": {
   "codemirror_mode": {
    "name": "ipython",
    "version": 3
   },
   "file_extension": ".py",
   "mimetype": "text/x-python",
   "name": "python",
   "nbconvert_exporter": "python",
   "pygments_lexer": "ipython3",
   "version": "3.9.13"
  }
 },
 "nbformat": 4,
 "nbformat_minor": 5
}
